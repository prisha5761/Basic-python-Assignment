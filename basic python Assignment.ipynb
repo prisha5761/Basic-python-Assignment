{
 "cells": [
  {
   "cell_type": "code",
   "execution_count": 1,
   "id": "f51446bb",
   "metadata": {},
   "outputs": [
    {
     "data": {
      "text/plain": [
       "2401"
      ]
     },
     "execution_count": 1,
     "metadata": {},
     "output_type": "execute_result"
    }
   ],
   "source": [
    "7**4"
   ]
  },
  {
   "cell_type": "code",
   "execution_count": 2,
   "id": "7c26ed56",
   "metadata": {},
   "outputs": [],
   "source": [
    "s=\"hi Yogesh there!\""
   ]
  },
  {
   "cell_type": "code",
   "execution_count": 3,
   "id": "09ff6aa2",
   "metadata": {},
   "outputs": [
    {
     "data": {
      "text/plain": [
       "['hi', 'Yogesh', 'there!']"
      ]
     },
     "execution_count": 3,
     "metadata": {},
     "output_type": "execute_result"
    }
   ],
   "source": [
    "s.split()"
   ]
  },
  {
   "cell_type": "code",
   "execution_count": 4,
   "id": "508b0e16",
   "metadata": {},
   "outputs": [],
   "source": [
    "planet=\"Earth\"\n",
    "diameter=12742"
   ]
  },
  {
   "cell_type": "code",
   "execution_count": 6,
   "id": "33f2ff47",
   "metadata": {},
   "outputs": [
    {
     "data": {
      "text/plain": [
       "'The diameter of Earth is 12742 kilometers'"
      ]
     },
     "execution_count": 6,
     "metadata": {},
     "output_type": "execute_result"
    }
   ],
   "source": [
    "\"The diameter of {} is {} kilometers\".format(planet,diameter)"
   ]
  },
  {
   "cell_type": "code",
   "execution_count": 7,
   "id": "fa20ed60",
   "metadata": {},
   "outputs": [],
   "source": [
    "lst=[1,2,[3,4],[5,[100,200,['hello']],23,11],1,7]"
   ]
  },
  {
   "cell_type": "code",
   "execution_count": 8,
   "id": "e7606abf",
   "metadata": {},
   "outputs": [
    {
     "data": {
      "text/plain": [
       "['hello']"
      ]
     },
     "execution_count": 8,
     "metadata": {},
     "output_type": "execute_result"
    }
   ],
   "source": [
    "lst[3][1][2]"
   ]
  },
  {
   "cell_type": "code",
   "execution_count": 9,
   "id": "72ff0bc7",
   "metadata": {},
   "outputs": [],
   "source": [
    "d={'k1':[1,2,3,{'tricky':['oh','man','inception',{'target':[1,2,3,'hello']}]}]}"
   ]
  },
  {
   "cell_type": "code",
   "execution_count": 13,
   "id": "531a5387",
   "metadata": {},
   "outputs": [
    {
     "data": {
      "text/plain": [
       "'hello'"
      ]
     },
     "execution_count": 13,
     "metadata": {},
     "output_type": "execute_result"
    }
   ],
   "source": [
    "d['k1'][3]['tricky'][3]['target'][3]"
   ]
  },
  {
   "cell_type": "code",
   "execution_count": 35,
   "id": "792c3369",
   "metadata": {},
   "outputs": [],
   "source": [
    "def fun1(email):\n",
    "    return email.split('@')[-1]"
   ]
  },
  {
   "cell_type": "code",
   "execution_count": 37,
   "id": "420c61ee",
   "metadata": {},
   "outputs": [
    {
     "data": {
      "text/plain": [
       "'gmail.com'"
      ]
     },
     "execution_count": 37,
     "metadata": {},
     "output_type": "execute_result"
    }
   ],
   "source": [
    "fun1('abc@gmail.com')"
   ]
  },
  {
   "cell_type": "code",
   "execution_count": 40,
   "id": "2df0365b",
   "metadata": {},
   "outputs": [],
   "source": [
    "def findDog(n):\n",
    "    dog=='dog'\n",
    "    return True"
   ]
  },
  {
   "cell_type": "code",
   "execution_count": 41,
   "id": "d38a5a24",
   "metadata": {},
   "outputs": [
    {
     "data": {
      "text/plain": [
       "True"
      ]
     },
     "execution_count": 41,
     "metadata": {},
     "output_type": "execute_result"
    }
   ],
   "source": [
    "findDog('Is there a dog here?')"
   ]
  },
  {
   "cell_type": "code",
   "execution_count": 42,
   "id": "734cb716",
   "metadata": {},
   "outputs": [],
   "source": [
    "s=\"This dog runs faster than the other dog dude!\"\n",
    "    "
   ]
  },
  {
   "cell_type": "code",
   "execution_count": 43,
   "id": "827828d6",
   "metadata": {},
   "outputs": [
    {
     "data": {
      "text/plain": [
       "2"
      ]
     },
     "execution_count": 43,
     "metadata": {},
     "output_type": "execute_result"
    }
   ],
   "source": [
    "s.count('dog')"
   ]
  },
  {
   "cell_type": "code",
   "execution_count": 29,
   "id": "53c490fc",
   "metadata": {},
   "outputs": [],
   "source": [
    "lam1=lambda v:v[0]=='s'"
   ]
  },
  {
   "cell_type": "code",
   "execution_count": 26,
   "id": "74e67c05",
   "metadata": {},
   "outputs": [],
   "source": [
    "seq=['soup','dog','salad','cat','great']"
   ]
  },
  {
   "cell_type": "code",
   "execution_count": 27,
   "id": "1f4ff744",
   "metadata": {},
   "outputs": [
    {
     "data": {
      "text/plain": [
       "['soup', 'dog', 'salad', 'cat', 'great']"
      ]
     },
     "execution_count": 27,
     "metadata": {},
     "output_type": "execute_result"
    }
   ],
   "source": [
    "seq"
   ]
  },
  {
   "cell_type": "code",
   "execution_count": 31,
   "id": "9cb91446",
   "metadata": {},
   "outputs": [
    {
     "data": {
      "text/plain": [
       "['soup', 'salad']"
      ]
     },
     "execution_count": 31,
     "metadata": {},
     "output_type": "execute_result"
    }
   ],
   "source": [
    "list(filter(lam1,seq))"
   ]
  },
  {
   "cell_type": "code",
   "execution_count": 6,
   "id": "3b7dd763",
   "metadata": {},
   "outputs": [],
   "source": [
    "def caught_speeding(speed, is_birthday):\n",
    "    if is_birthday:\n",
    "        SPEED=speed-5\n",
    "    else:\n",
    "        SPEED=speed\n",
    "    if SPEED<=60:\n",
    "        print(\"No Ticket\")\n",
    "    elif 61<=SPEED<=80:\n",
    "        print(\"Small Ticket\")\n",
    "    else:\n",
    "        print(\"Big Ticket\")\n",
    "    "
   ]
  },
  {
   "cell_type": "code",
   "execution_count": 7,
   "id": "343d7670",
   "metadata": {},
   "outputs": [
    {
     "name": "stdout",
     "output_type": "stream",
     "text": [
      "Small Ticket\n"
     ]
    }
   ],
   "source": [
    "caught_speeding(81,True)"
   ]
  },
  {
   "cell_type": "code",
   "execution_count": 8,
   "id": "720f8f8d",
   "metadata": {},
   "outputs": [
    {
     "name": "stdout",
     "output_type": "stream",
     "text": [
      "Big Ticket\n"
     ]
    }
   ],
   "source": [
    "caught_speeding(81,False)"
   ]
  },
  {
   "cell_type": "code",
   "execution_count": 9,
   "id": "1ddb47a0",
   "metadata": {},
   "outputs": [
    {
     "name": "stdout",
     "output_type": "stream",
     "text": [
      "Big Ticket\n"
     ]
    }
   ],
   "source": [
    "caught_speeding(86,True)"
   ]
  },
  {
   "cell_type": "code",
   "execution_count": 10,
   "id": "a0906cc4",
   "metadata": {},
   "outputs": [
    {
     "name": "stdout",
     "output_type": "stream",
     "text": [
      "No Ticket\n"
     ]
    }
   ],
   "source": [
    "caught_speeding(45,False)"
   ]
  },
  {
   "cell_type": "code",
   "execution_count": 14,
   "id": "d5eebdd1",
   "metadata": {},
   "outputs": [
    {
     "name": "stdout",
     "output_type": "stream",
     "text": [
      "Take_input:99\n",
      "198\n",
      "Number is : 1089\n",
      "Reverse is : 9801\n",
      "Palindrome is: 1089\n",
      "Number is : 10890\n",
      "Reverse is : 9801\n",
      "Palindrome is: 10890\n",
      "Number is : 20691\n",
      "Reverse is : 19602\n",
      "Palindrome is: 20691\n",
      "Number is : 40293\n",
      "Reverse is : 39204\n",
      "Palindrome is: 40293\n",
      "Number is : 79497\n",
      "Reverse is : 79497\n",
      "Palindrome is: 79497\n"
     ]
    }
   ],
   "source": [
    "i=int(input(\"Take_input:\"))\n",
    "add=i+int(str(i)[::-1])\n",
    "print(add)\n",
    "while add!=int(str(add)[::-1]):\n",
    "    add=int(str(add))+int(str(add)[::-1])\n",
    "    print(\"Number is :\",add)\n",
    "    print(\"Reverse is :\",int(str(add)[::-1]))\n",
    "    print(\"Palindrome is:\",add)\n",
    "        \n",
    "    \n",
    "    "
   ]
  },
  {
   "cell_type": "code",
   "execution_count": 13,
   "id": "9c6a771e",
   "metadata": {},
   "outputs": [],
   "source": [
    "def fivedigitnumber():\n",
    "    for z in range(0,9,1):\n",
    "        first=z+4\n",
    "        second = z+2\n",
    "        third=z\n",
    "        fourth=z-2\n",
    "        fifth=z\n",
    "        if third+fourth+fifth==first:\n",
    "            if (first+second+third+fourth+fifth)==19:\n",
    "                return(int(str(first)+str(second)+str(third)+str(fourth)+str(fifth)))\n",
    "            print(fivedigitnumber())\n",
    "\n",
    "\n",
    "        "
   ]
  },
  {
   "cell_type": "code",
   "execution_count": 14,
   "id": "14488865",
   "metadata": {},
   "outputs": [
    {
     "data": {
      "text/plain": [
       "75313"
      ]
     },
     "execution_count": 14,
     "metadata": {},
     "output_type": "execute_result"
    }
   ],
   "source": [
    "fivedigitnumber()"
   ]
  },
  {
   "cell_type": "code",
   "execution_count": 1,
   "id": "e194af6e",
   "metadata": {},
   "outputs": [
    {
     "name": "stdout",
     "output_type": "stream",
     "text": [
      "Enter the Input:-ab45cd\n",
      "-45\n"
     ]
    }
   ],
   "source": [
    "s=input(\"Enter the Input:\")\n",
    "num=\"\"\n",
    "a=[0,1,2,3,4,5,6,7,8,9]\n",
    "if s==\"\":\n",
    "    print(\"enter\")\n",
    "else:\n",
    "    if s[0]==\"-\":\n",
    "        num=num+s[0]\n",
    "    for c in s:\n",
    "        if c in str(a):\n",
    "            num=num+c\n",
    "    print(num)"
   ]
  },
  {
   "cell_type": "code",
   "execution_count": null,
   "id": "9d010dec",
   "metadata": {},
   "outputs": [],
   "source": []
  }
 ],
 "metadata": {
  "kernelspec": {
   "display_name": "Python 3 (ipykernel)",
   "language": "python",
   "name": "python3"
  },
  "language_info": {
   "codemirror_mode": {
    "name": "ipython",
    "version": 3
   },
   "file_extension": ".py",
   "mimetype": "text/x-python",
   "name": "python",
   "nbconvert_exporter": "python",
   "pygments_lexer": "ipython3",
   "version": "3.9.12"
  }
 },
 "nbformat": 4,
 "nbformat_minor": 5
}
